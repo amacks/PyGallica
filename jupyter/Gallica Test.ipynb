{
 "cells": [
  {
   "cell_type": "code",
   "execution_count": null,
   "metadata": {},
   "outputs": [],
   "source": [
    "# Getting Started\n",
    "\n",
    "# This Jupyter notebook is meant as a simple introduction to the PyGallica package. The code included here will guide \n",
    "# you through some simple queries using PyGallica, introducing you to the Search, IIIF,\n",
    "# and Document APIs. The demo is self-contained, so no files will be saved to your local machine."
   ]
  },
  {
   "cell_type": "code",
   "execution_count": null,
   "metadata": {},
   "outputs": [],
   "source": [
    "# This line installs all of the package's requirements on your machine using Python 3.\n",
    "\n",
    "! pip3 install --user -r requirements.txt"
   ]
  },
  {
   "cell_type": "code",
   "execution_count": null,
   "metadata": {},
   "outputs": [],
   "source": [
    "# Although Beautiful Soup should be installed using the line above, I've sometimes run into errors saying that it \n",
    "# hasn't been successfully installed. Uncomment the line below and run it if you encounter that error.\n",
    "\n",
    "# ! pip3 install BeautifulSoup4"
   ]
  },
  {
   "cell_type": "code",
   "execution_count": 3,
   "metadata": {},
   "outputs": [],
   "source": [
    "# Now that we've installed our requirements, we can start to use the wrapper.\n",
    "\n",
    "# We'll start with the Search API. The Search API allows you to perform keyword searches\n",
    "# in Gallica's holdings and retrieve xml returned by those searches.\n",
    "\n",
    "# Here we import the Search class from the file search_api.py\n",
    "\n",
    "from search_api import Search"
   ]
  },
  {
   "cell_type": "code",
   "execution_count": null,
   "metadata": {},
   "outputs": [],
   "source": [
    "# This is the basic syntax for running searches using the API wrapper. The words you put in quotes will be your \n",
    "# queries. You can separate multiple queries with commas in the format Search.search('this', 'is', 'a', 'test')\n",
    "\n",
    "# Your results should appear in a few seconds after running this command.\n",
    "\n",
    "Search.search('test')"
   ]
  },
  {
   "cell_type": "code",
   "execution_count": 7,
   "metadata": {},
   "outputs": [],
   "source": [
    "# Now we'll look at the IIIF API. The IIIF API allows you to retrieve images from Gallica's holdings, \n",
    "# as well as the .json metadata associated with those images. Gallica, as a participant in the IIIF, \n",
    "# offers access to all of the more than 100 million images in its Gallica digital library.\n",
    "\n",
    "# The API takes an Ark ID, region, size, rotation, quality, and format as arguments if you are saving an image.\n",
    "# In this notebook we'll simply retrieve metadata for an image, so we only need an Ark ID.\n",
    "\n",
    "# Here we import the IIIF class from the file iiif_api.py\n",
    "\n",
    "from iiif_api import IIIF"
   ]
  },
  {
   "cell_type": "code",
   "execution_count": null,
   "metadata": {},
   "outputs": [],
   "source": [
    "# This line fetches metadata for the image with the id pasted in the quotes.\n",
    "\n",
    "IIIF.metadata('12148/btv1b90017179/f15')"
   ]
  },
  {
   "cell_type": "code",
   "execution_count": 11,
   "metadata": {},
   "outputs": [],
   "source": [
    "# Finally, we'll look at the Document API.\n",
    "\n",
    "# The Document API allows you to retrieve metadata about a particular document in Gallica's holdings.\n",
    "# There are a number of different methods for retrieving various types of metadata; please see the full\n",
    "# code in GitHub for further usage examples and possibilities.\n",
    "\n",
    "# Here we import the Document class from the file document_api.py\n",
    "\n",
    "from document_api import Document"
   ]
  },
  {
   "cell_type": "code",
   "execution_count": null,
   "metadata": {},
   "outputs": [],
   "source": [
    "# This line fetches metadata for the image with the Ark ID pasted in the quotes.\n",
    "\n",
    "Document.ocr('bpt6k5619759j', '10')"
   ]
  },
  {
   "cell_type": "code",
   "execution_count": null,
   "metadata": {},
   "outputs": [],
   "source": [
    "# For further documentation, and to download the full PyGallica package, \n",
    "# please visit https://github.com/ian-nai/PyGallica."
   ]
  }
 ],
 "metadata": {
  "kernelspec": {
   "display_name": "Python 3",
   "language": "python",
   "name": "python3"
  },
  "language_info": {
   "codemirror_mode": {
    "name": "ipython",
    "version": 3
   },
   "file_extension": ".py",
   "mimetype": "text/x-python",
   "name": "python",
   "nbconvert_exporter": "python",
   "pygments_lexer": "ipython3",
   "version": "3.7.6"
  }
 },
 "nbformat": 4,
 "nbformat_minor": 2
}
